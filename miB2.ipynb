{
  "nbformat": 4,
  "nbformat_minor": 0,
  "metadata": {
    "colab": {
      "provenance": [],
      "include_colab_link": true
    },
    "kernelspec": {
      "name": "python3",
      "display_name": "Python 3"
    },
    "language_info": {
      "name": "python"
    }
  },
  "cells": [
    {
      "cell_type": "markdown",
      "metadata": {
        "id": "view-in-github",
        "colab_type": "text"
      },
      "source": [
        "<a href=\"https://colab.research.google.com/github/bernaldiaz/MecanicaCeleste-Zuluaga/blob/master/miB2.ipynb\" target=\"_parent\"><img src=\"https://colab.research.google.com/assets/colab-badge.svg\" alt=\"Open In Colab\"/></a>"
      ]
    },
    {
      "cell_type": "markdown",
      "source": [
        "Programación Dirigida a Objetos (PDO): Clases, Propiedades, Métodos y Objetos\n",
        "La PDO es un paradigma de programación en el que la información y las operaciones que la manipulan se encapsulan en unas entidades denominadas objetos que pertenecen a determinadas clases. Veamos como lo implementa Python con ejemplos:"
      ],
      "metadata": {
        "id": "1IrMW6BQ_Odc"
      }
    },
    {
      "cell_type": "code",
      "execution_count": null,
      "metadata": {
        "id": "3XmfrKCe--cQ"
      },
      "outputs": [],
      "source": [
        "class Planeta:\n",
        "\n",
        "    nombre = \"\"\n",
        "    diametro = 0.0\n",
        "    distanciaSol = 0.0\n",
        "\n",
        "    def __init__(self, nombre, diam, distSol):\n",
        "        self.nombre = nombre\n",
        "        self.diam = diam\n",
        "        self.distanciaSol = distSol\n",
        "\n",
        "    def getNombre(self):\n",
        "        return nombre\n",
        "\n",
        "    def getDistanciaSol(self):\n",
        "        return self.distanciaSol\n",
        "\n",
        "    def getDistanciaSolKm(self):\n",
        "        return self.distanciaSol * 149597870"
      ]
    },
    {
      "cell_type": "code",
      "source": [
        "jupiter = Planeta(\"Júpiter\", 192984, 5.2)\n",
        "mercurio = Planeta(\"Mercurio\", 4879, 0.39)\n",
        "\n",
        "print(jupiter.getDistanciaSolKm())\n",
        "print(mercurio.nombre)"
      ],
      "metadata": {
        "colab": {
          "base_uri": "https://localhost:8080/"
        },
        "id": "CS_cBa7g_kDT",
        "outputId": "92fca743-a78e-449b-ff09-08e7940e1fbd"
      },
      "execution_count": null,
      "outputs": [
        {
          "output_type": "stream",
          "name": "stdout",
          "text": [
            "777908924.0\n",
            "Mercurio\n"
          ]
        }
      ]
    },
    {
      "cell_type": "markdown",
      "source": [
        "Ejercicio B.12:\n",
        "\n",
        "Creemos una clase llamada Polinomio que nos permita encapsular la información de un polinomio de grado arbitrario n. Dicha clase debe almacenar la información de sus coeficientes y debe proveer métodos para:\n",
        "\n",
        "obtener los coeficientes del polinomio,\n",
        "para obtener el coeficiente con índice n,\n",
        "para obtener el grado del polinomio,\n",
        "para evaluar el polinomio en cualquier punto x y\n",
        "para obtener una lista de puntos evaluados similar a la del ejercicio B.8."
      ],
      "metadata": {
        "id": "xxI_IaS1_7rc"
      }
    },
    {
      "cell_type": "markdown",
      "source": [
        "\n"
      ],
      "metadata": {
        "id": "Kz6BMnJAAAvy"
      }
    },
    {
      "cell_type": "code",
      "source": [
        "class Polinomio:\n",
        "  coeficientes = []\n",
        "\n",
        "  def __init__(self, *coeficientes):\n",
        "        self.coeficientes = coeficientes\n",
        "\n",
        "  def getCoeficiente(self, grado):\n",
        "        return self.coeficientes[self.getGrado()-grado]\n",
        "\n",
        "  def getGrado(self):\n",
        "        return len(self.coeficientes) - 1\n",
        "\n",
        "  def evalua(self, x):\n",
        "        coeficienteActual = self.getGrado()\n",
        "\n",
        "        res = 0\n",
        "        for c in self.coeficientes:\n",
        "            res = res + c * x ** coeficienteActual\n",
        "            coeficienteActual = coeficienteActual - 1\n",
        "\n",
        "        return res\n",
        "\n",
        "  def evaluaF(self, xMin = -2, xMax = 2, xStep = 0.01):\n",
        "        x = xMin\n",
        "\n",
        "        puntos = []\n",
        "\n",
        "        while x < xMax:\n",
        "            puntos.append( (x, self.evalua(x)) )\n",
        "\n",
        "            x = x + xStep\n",
        "\n",
        "        return puntos\n"
      ],
      "metadata": {
        "id": "DdjDmsgvB9sd"
      },
      "execution_count": 1,
      "outputs": []
    },
    {
      "cell_type": "code",
      "source": [
        "pol1 = Polinomio(1.25, 2, -1, -2)"
      ],
      "metadata": {
        "id": "T8Xo-ywSCbh7"
      },
      "execution_count": 2,
      "outputs": []
    },
    {
      "cell_type": "code",
      "source": [
        "print(f\"Los coeficientes del polinomio: {pol1.coeficientes}\")"
      ],
      "metadata": {
        "colab": {
          "base_uri": "https://localhost:8080/"
        },
        "id": "-8x09_mZHQOl",
        "outputId": "a004598f-2570-439c-c64a-f5d880c73302"
      },
      "execution_count": 3,
      "outputs": [
        {
          "output_type": "stream",
          "name": "stdout",
          "text": [
            "Los coeficientes del polinomio: (1.25, 2, -1, -2)\n"
          ]
        }
      ]
    },
    {
      "cell_type": "code",
      "source": [
        "print(f\"El coeficiente de grado 2 es: {pol1.getCoeficiente(2)}\")\n"
      ],
      "metadata": {
        "colab": {
          "base_uri": "https://localhost:8080/"
        },
        "id": "BeLG0a3uH3eK",
        "outputId": "f574f516-80b2-43aa-c874-a685b1434f7a"
      },
      "execution_count": 4,
      "outputs": [
        {
          "output_type": "stream",
          "name": "stdout",
          "text": [
            "El coeficiente de grado 2 es: 2\n"
          ]
        }
      ]
    },
    {
      "cell_type": "code",
      "source": [
        "print(f\"El grado del polinomio es: {pol1.getGrado()}\")\n"
      ],
      "metadata": {
        "colab": {
          "base_uri": "https://localhost:8080/"
        },
        "id": "vnOcvqPFIDvz",
        "outputId": "3e473647-73b9-48b7-c8cc-f12f102d4dc2"
      },
      "execution_count": 5,
      "outputs": [
        {
          "output_type": "stream",
          "name": "stdout",
          "text": [
            "El grado del polinomio es: 3\n"
          ]
        }
      ]
    },
    {
      "cell_type": "code",
      "source": [
        "print(f\"El polinomio en x=2.0 vale: {pol1.evalua(2.0)}\")"
      ],
      "metadata": {
        "colab": {
          "base_uri": "https://localhost:8080/"
        },
        "id": "6BCZMo2LINPq",
        "outputId": "e512b089-4495-47a3-cc2b-7a5ea8fc48db"
      },
      "execution_count": 6,
      "outputs": [
        {
          "output_type": "stream",
          "name": "stdout",
          "text": [
            "El polinomio en x=2.0 vale: 14.0\n"
          ]
        }
      ]
    },
    {
      "cell_type": "code",
      "source": [
        "puntos1 = pol1.evaluaF()"
      ],
      "metadata": {
        "id": "_cVjT_-NId2y"
      },
      "execution_count": 7,
      "outputs": []
    },
    {
      "cell_type": "code",
      "source": [
        "pol2 = Polinomio(2, 0, 0)\n",
        "puntos2 = pol2.evaluaF()"
      ],
      "metadata": {
        "id": "pBqoGhGZItaa"
      },
      "execution_count": 8,
      "outputs": []
    },
    {
      "cell_type": "code",
      "source": [],
      "metadata": {
        "id": "haMOq1AAI4T9"
      },
      "execution_count": null,
      "outputs": []
    },
    {
      "cell_type": "code",
      "execution_count": null,
      "metadata": {
        "id": "c2c9c3fc-7a13-4c6d-b792-daa7dae2f538",
        "outputId": "235ac366-fa6f-4a37-818a-126408f7aed8"
      },
      "outputs": [
        {
          "name": "stdout",
          "output_type": "stream",
          "text": [
            "Los coeficientes del polinomio: (1.25, 2, -1, -2)\n",
            "El coeficiente de grado 2 es: 2\n",
            "El grado del polinomio es: 3\n",
            "El polinomio en x=2.0 vale: 14.0\n"
          ]
        },
        {
          "data": {
            "image/png": "[encoded data removed]",
            "text/plain": [
              "<Figure size 432x288 with 1 Axes>"
            ]
          },
          "metadata": {
            "needs_background": "light"
          },
          "output_type": "display_data"
        }
      ],
      "source": [
        "class Polinomio:\n",
        "    coeficientes = []\n",
        "\n",
        "    def __init__(self, *coeficientes):\n",
        "        self.coeficientes = coeficientes\n",
        "\n",
        "    def getCoeficiente(self, grado):\n",
        "        return self.coeficientes[self.getGrado()-grado]\n",
        "\n",
        "    def getGrado(self):\n",
        "        return len(self.coeficientes) - 1\n",
        "\n",
        "    def evalua(self, x):\n",
        "        coeficienteActual = self.getGrado()\n",
        "\n",
        "        res = 0\n",
        "        for c in self.coeficientes:\n",
        "            res = res + c * x ** coeficienteActual\n",
        "            coeficienteActual = coeficienteActual - 1\n",
        "\n",
        "        return res\n",
        "\n",
        "    def evaluaF(self, xMin = -2, xMax = 2, xStep = 0.01):\n",
        "        x = xMin\n",
        "\n",
        "        puntos = []\n",
        "\n",
        "        while x < xMax:\n",
        "            puntos.append( (x, self.evalua(x)) )\n",
        "\n",
        "            x = x + xStep\n",
        "\n",
        "        return puntos\n",
        "\n",
        "pol1 = Polinomio(1.25, 2, -1, -2)\n",
        "\n",
        "print(f\"Los coeficientes del polinomio: {pol1.coeficientes}\")\n",
        "\n",
        "print(f\"El coeficiente de grado 2 es: {pol1.getCoeficiente(2)}\")\n",
        "\n",
        "print(f\"El grado del polinomio es: {pol1.getGrado()}\")\n",
        "\n",
        "print(f\"El polinomio en x=2.0 vale: {pol1.evalua(2.0)}\")\n",
        "\n",
        "puntos1 = pol1.evaluaF()\n",
        "\n",
        "pol2 = Polinomio(2, 0, 0)\n",
        "puntos2 = pol2.evaluaF()\n",
        "\n",
        "import matplotlib.pyplot as plt\n",
        "x, y = zip(*puntos1)\n",
        "plt.plot(x, y)\n",
        "x, y = zip(*puntos2)\n",
        "plt.plot(x, y)\n",
        "plt.show()"
      ]
    },
    {
      "cell_type": "markdown",
      "source": [
        "Una pequeña practica para entender lo de arriba"
      ],
      "metadata": {
        "id": "mArM5fJ9JWuq"
      }
    },
    {
      "cell_type": "code",
      "source": [
        "class Elpolinomio:\n",
        "    coeficientes = []\n",
        "\n",
        "    def __init__(self, *coeficientes):\n",
        "        self.coeficientes = coeficientes"
      ],
      "metadata": {
        "id": "XrXibMh4JioB"
      },
      "execution_count": 9,
      "outputs": []
    },
    {
      "cell_type": "code",
      "source": [
        "Elpol1 = Elpolinomio(1.25, 2, -1, -2)"
      ],
      "metadata": {
        "id": "sITfv5sKKCC2"
      },
      "execution_count": 10,
      "outputs": []
    },
    {
      "cell_type": "code",
      "source": [
        "print(f\"Los coeficientes del polinomio: {Elpol1.coeficientes}\")"
      ],
      "metadata": {
        "colab": {
          "base_uri": "https://localhost:8080/"
        },
        "id": "iUxiSQXSJ19C",
        "outputId": "fb88e1a0-abf9-4747-bbd8-10ae81270f0a"
      },
      "execution_count": 12,
      "outputs": [
        {
          "output_type": "stream",
          "name": "stdout",
          "text": [
            "Los coeficientes del polinomio: (1.25, 2, -1, -2)\n"
          ]
        }
      ]
    }
  ]
}