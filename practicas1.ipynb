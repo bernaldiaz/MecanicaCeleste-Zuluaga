{
  "nbformat": 4,
  "nbformat_minor": 0,
  "metadata": {
    "colab": {
      "provenance": [],
      "authorship_tag": "ABX9TyMP9CDp5n+dL3evY/Hn2DqH",
      "include_colab_link": true
    },
    "kernelspec": {
      "name": "python3",
      "display_name": "Python 3"
    },
    "language_info": {
      "name": "python"
    }
  },
  "cells": [
    {
      "cell_type": "markdown",
      "metadata": {
        "id": "view-in-github",
        "colab_type": "text"
      },
      "source": [
        "<a href=\"https://colab.research.google.com/github/bernaldiaz/MecanicaCeleste-Zuluaga/blob/master/practicas1.ipynb\" target=\"_parent\"><img src=\"https://colab.research.google.com/assets/colab-badge.svg\" alt=\"Open In Colab\"/></a>"
      ]
    },
    {
      "cell_type": "markdown",
      "source": [],
      "metadata": {
        "id": "1tUFTTalSCMF"
      }
    },
    {
      "cell_type": "markdown",
      "source": [
        "Algoritmos para funciones\n",
        "Hay dos maneras de definir una función en Python: 1) como una rutina o 2) como una función lambda.\n",
        "\n",
        "Como una rutina, una función en Python puede recibir como \"argumentos\" de entrada no solo las variables de la función sino también argumentos opcionales.\n",
        "\n",
        "La siguiente función, por ejemplo, permite calcular el valor de la energía potencial de un sistema físico usando la función de varias variables U(r⃗ )=krn (siendo r⃗ :x,y,z el vector posición y r su magnitud.)"
      ],
      "metadata": {
        "id": "42pGhxfuSd2b"
      }
    },
    {
      "cell_type": "code",
      "source": [
        "def U(x,y,z,k=1,n=-1):\n",
        "    r=(x**2+y**2+z**2)**0.5\n",
        "    return k*r**n"
      ],
      "metadata": {
        "id": "PCgPMI_9SoT8"
      },
      "execution_count": 1,
      "outputs": []
    },
    {
      "cell_type": "code",
      "source": [
        "print(f\"U(1.0,2.0,0.0) con k = 1 y n = -1 (valores por defecto) = {U(1.0,2.0,0.0)}\")\n",
        "print(f\"U(1.0,2.0,0.0) con k = 6.67e-11 y n = -2 = {U(1.0,2.0,0.0,k=6.67e-11,n=-2)}\")"
      ],
      "metadata": {
        "colab": {
          "base_uri": "https://localhost:8080/"
        },
        "id": "SeABDIYlSv6M",
        "outputId": "d60e24f0-631f-4ab6-dc79-1b217104bc21"
      },
      "execution_count": 2,
      "outputs": [
        {
          "output_type": "stream",
          "name": "stdout",
          "text": [
            "U(1.0,2.0,0.0) con k = 1 y n = -1 (valores por defecto) = 0.4472135954999579\n",
            "U(1.0,2.0,0.0) con k = 6.67e-11 y n = -2 = 1.334e-11\n"
          ]
        }
      ]
    },
    {
      "cell_type": "markdown",
      "metadata": {
        "label": "",
        "subtitle": "Argumentos obligatorios y argumentos opcionales",
        "tags": [
          "box_note"
        ],
        "title": "Nota",
        "id": "tNzglJKqU6Mq"
      },
      "source": [
        "> **Nota: Argumentos obligatorios y argumentos opcionales.**<a id=''></a> Toda rutina en `Python` puede tener unos argumentos obligatorios (que llamaremos variables) o unos opcionales.  \n",
        "\n",
        "> Las variables son en estricto sentido una `tupla` de valores, por ejemplo `x,y,z` en la función $U$ en el Alg. ([rutina_potencial](#code:rutina_potencial)).  \n",
        "\n",
        "> Los argumentos opcionales son, por otro lado, un `diccionario` de valores, que no es otra cosa que una lista de valores identificados con un nombre (también llamdo clave o `key`).  En la función $U$ en el Alg. ([rutina](#code:rutina)) los argumentos opcionales son `k=1,n=-1`.  \n",
        "\n",
        "> En `Python` las variables y las opciones de una rutina pueden representarse usando los objetos especiales `*variables` y `**opciones`. El uso de estos objetos especiales no es muy común, pero en ciertas situaciones puede ser bastante útil.  \n",
        "\n",
        "> Una forma alternativa de la rutina para $U$ en el Alg. ([rutina](#code:rutina)) es:\n",
        "\n",
        "  ```python\n",
        "  def U(*variables,**opciones):\n",
        "    x,y,z=*variables\n",
        "    r=(x**2+y**2+z**2)**0.5\n",
        "    return opciones[\"k\"]*r**opciones[\"n\"]\n",
        "  ```\n",
        "  \n",
        "> que se puede invocar usando:\n",
        "\n",
        "  ```python\n",
        "  var=1.0,2.0\n",
        "  opc=dict(k=1,n=-2)\n",
        "  U(*var,**opc)\n",
        "  ```\n",
        "  \n",
        "> No parece muy práctico, pero como veremos puede ser muy útil en ciertas situaciones especiales."
      ]
    },
    {
      "cell_type": "markdown",
      "source": [
        "Las funciones lambda se usan para representar funciones muy abreviadas y no tienen argumentos distintos de las variables de las que dependen.\n",
        "\n",
        "Así, por ejemplo, el siguiente algoritmo define una función lambda, U_x, basada en la función  U  del Alg. (rutina), que depende solo de la variable  x  cuando y asumes constante los valores de  y  y  z  (U_x será util para calcular más abajo la derivadas parcial de  U  respecto a  x ):"
      ],
      "metadata": {
        "id": "GRgq_g62V0ks"
      }
    },
    {
      "cell_type": "code",
      "source": [
        "y=1.0\n",
        "z=1.0\n",
        "k=1\n",
        "n=-2\n",
        "U_x=lambda x:U(x,y,z,k,n)"
      ],
      "metadata": {
        "id": "wWce0BZyU8QE"
      },
      "execution_count": 4,
      "outputs": []
    },
    {
      "cell_type": "code",
      "source": [
        "print(f\"Ux(0.0) = {U_x(0.0)}\")"
      ],
      "metadata": {
        "colab": {
          "base_uri": "https://localhost:8080/"
        },
        "id": "pKn5iOvJWR88",
        "outputId": "16f264e7-2bd0-42e5-c7e8-14d1a33343e2"
      },
      "execution_count": 5,
      "outputs": [
        {
          "output_type": "stream",
          "name": "stdout",
          "text": [
            "Ux(0.0) = 0.49999999999999994\n"
          ]
        }
      ]
    }
  ]
}